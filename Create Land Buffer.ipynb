{
 "cells": [
  {
   "cell_type": "code",
   "execution_count": 1,
   "id": "858abd7b",
   "metadata": {},
   "outputs": [],
   "source": [
    "import geopandas as gpd\n",
    "import os"
   ]
  },
  {
   "cell_type": "code",
   "execution_count": 2,
   "id": "0b34f529",
   "metadata": {},
   "outputs": [],
   "source": [
    "def create_land_buffer(\n",
    "    country_gdf, harbor_gdf, buffer_country, buffer_harbor\n",
    "):\n",
    "    \"\"\"\n",
    "    Creates a buffer around harbors and countries and saves it GeoJSON.\n",
    "    Arguments:\n",
    "        country_gdf: geodataframe all countries\n",
    "        harbor_gdf: geodataframe all harbors globally\n",
    "        buffer_harbor: size buffer around harbors (km)\n",
    "        buffer_country: size buffer around countries (km)\n",
    "    Returns:\n",
    "        None, but saves GeoJSON\n",
    "    \"\"\"\n",
    "    assert country_gdf.crs == harbor_gdf.crs\n",
    "    assert harbor_gdf.is_valid.all() and country_gdf.is_valid.all()\n",
    "    # conversion https://www.usna.edu/Users/oceano/pguth/md_help/html/approx_equivalents.htm\n",
    "    # 1 degree = 111 km\n",
    "    # 1 km = 0.009 degrees\n",
    "    # This is usually accurate enough, but should not be used for anything near the poles\n",
    "    buffer_country_deg = buffer_country * 0.009\n",
    "    buffer_harbor_deg = buffer_harbor * 0.009\n",
    "    # Dissolve it\n",
    "    countries_dissolved = gpd.GeoDataFrame(country_gdf.dissolve()[\"geometry\"])\n",
    "    harbors_dissolved = gpd.GeoDataFrame(harbor_gdf.dissolve()[\"geometry\"])\n",
    "    print(\"Create the buffers\")    \n",
    "    buffered_harbors = gpd.GeoDataFrame(harbors_dissolved.buffer(buffer_harbor_deg))\n",
    "    buffered_harbors.columns = [\"geometry\"]\n",
    "    buffered_countries = gpd.GeoDataFrame(\n",
    "        countries_dissolved.buffer(buffer_country_deg)\n",
    "    )\n",
    "    buffered_countries.columns = [\"geometry\"]\n",
    "    # Combine the two bufferes\n",
    "    buffer_both = buffered_countries.union(buffered_harbors)\n",
    "    print(\"Substract the countries from the buffer\")\n",
    "    buffer_diff = gpd.GeoDataFrame(buffer_both.difference(countries_dissolved))\n",
    "    buffer_diff.columns = [\"geometry\"]\n",
    "    buffer_diff = buffer_diff.dissolve()\n",
    "    print(\"Saving\")\n",
    "    buffer_diff.to_file(\n",
    "        \"results\"\n",
    "        + os.sep\n",
    "        + \"harbor_{}km_coast_{}km_buffer_no_metadata.gpkg\".format(buffer_harbor, buffer_country),\n",
    "        driver=\"GPKG\")\n"
   ]
  },
  {
   "cell_type": "code",
   "execution_count": 3,
   "id": "36270ab5",
   "metadata": {},
   "outputs": [],
   "source": [
    "def buffer_with_meta_data(buffer, meta, buffer_country, buffer_harbor):\n",
    "    \"\"\"\n",
    "    Overlays the buffer with a file containing metadata for those regions. \n",
    "    \"\"\"\n",
    "    print(\"overlap\")\n",
    "    overlap_df = gpd.overlay(meta, buffer, how=\"intersection\")\n",
    "    # Iterate over the columns of each dataframe\n",
    "    for col in meta.columns:\n",
    "        # Add the column to the overlap dataframe with a suffix indicating the source dataframe\n",
    "        overlap_df[col + '_1'] = meta[col]\n",
    "    # Filter the overlap dataframe to only include the intersecting polygons\n",
    "    overlap_df = overlap_df[overlap_df['geometry'].notnull()]\n",
    "    # only keep the columns we need\n",
    "    overlap_df = overlap_df[[\"SOVEREIGN1\", \"geometry\"]]\n",
    "    print(\"Saving\")\n",
    "    overlap_df.to_file(\n",
    "        \"results\"\n",
    "        + os.sep\n",
    "        + \"harbor_{}km_coast_{}km_buffer_with_metadata.gpkg\".format(buffer_harbor, buffer_country),\n",
    "        driver=\"GPKG\")"
   ]
  },
  {
   "cell_type": "code",
   "execution_count": 4,
   "id": "ae7a4782",
   "metadata": {},
   "outputs": [
    {
     "data": {
      "text/html": [
       "<div>\n",
       "<style scoped>\n",
       "    .dataframe tbody tr th:only-of-type {\n",
       "        vertical-align: middle;\n",
       "    }\n",
       "\n",
       "    .dataframe tbody tr th {\n",
       "        vertical-align: top;\n",
       "    }\n",
       "\n",
       "    .dataframe thead th {\n",
       "        text-align: right;\n",
       "    }\n",
       "</style>\n",
       "<table border=\"1\" class=\"dataframe\">\n",
       "  <thead>\n",
       "    <tr style=\"text-align: right;\">\n",
       "      <th></th>\n",
       "      <th>id</th>\n",
       "      <th>portname</th>\n",
       "      <th>code</th>\n",
       "      <th>prttype</th>\n",
       "      <th>prtsize</th>\n",
       "      <th>status</th>\n",
       "      <th>maxdepth</th>\n",
       "      <th>maxlength</th>\n",
       "      <th>annualcapacitymt</th>\n",
       "      <th>humuse</th>\n",
       "      <th>...</th>\n",
       "      <th>country</th>\n",
       "      <th>lastcheckdate</th>\n",
       "      <th>remarks</th>\n",
       "      <th>url_lca</th>\n",
       "      <th>source</th>\n",
       "      <th>createdate</th>\n",
       "      <th>updatedate</th>\n",
       "      <th>geonameid</th>\n",
       "      <th>gdb_geomattr_data</th>\n",
       "      <th>geometry</th>\n",
       "    </tr>\n",
       "  </thead>\n",
       "  <tbody>\n",
       "    <tr>\n",
       "      <th>0</th>\n",
       "      <td>wld_trs_ports_wfp.14314</td>\n",
       "      <td>Watsi-Genge</td>\n",
       "      <td>None</td>\n",
       "      <td>River</td>\n",
       "      <td>Very Small</td>\n",
       "      <td>Unknown</td>\n",
       "      <td>NaN</td>\n",
       "      <td>NaN</td>\n",
       "      <td>NaN</td>\n",
       "      <td>Unknown</td>\n",
       "      <td>...</td>\n",
       "      <td>Democratic Republic of the Congo</td>\n",
       "      <td>NaT</td>\n",
       "      <td>None</td>\n",
       "      <td>None</td>\n",
       "      <td>None</td>\n",
       "      <td>2021-02-24 11:52:47.493000+00:00</td>\n",
       "      <td>2021-02-24 11:52:47.493000+00:00</td>\n",
       "      <td>204280</td>\n",
       "      <td>None</td>\n",
       "      <td>POINT (20.62966 -0.94560)</td>\n",
       "    </tr>\n",
       "    <tr>\n",
       "      <th>1</th>\n",
       "      <td>wld_trs_ports_wfp.14315</td>\n",
       "      <td>Charlotte (Skidegate)</td>\n",
       "      <td>CASKI</td>\n",
       "      <td>Sea</td>\n",
       "      <td>Unknown</td>\n",
       "      <td>Open</td>\n",
       "      <td>NaN</td>\n",
       "      <td>NaN</td>\n",
       "      <td>NaN</td>\n",
       "      <td>Unknown</td>\n",
       "      <td>...</td>\n",
       "      <td>Canada</td>\n",
       "      <td>NaT</td>\n",
       "      <td>None</td>\n",
       "      <td>None</td>\n",
       "      <td>None</td>\n",
       "      <td>2021-02-24 11:52:47.493000+00:00</td>\n",
       "      <td>2021-02-24 11:52:47.493000+00:00</td>\n",
       "      <td>6148858</td>\n",
       "      <td>None</td>\n",
       "      <td>POINT (-132.00969 53.24742)</td>\n",
       "    </tr>\n",
       "  </tbody>\n",
       "</table>\n",
       "<p>2 rows × 25 columns</p>\n",
       "</div>"
      ],
      "text/plain": [
       "                        id               portname   code prttype     prtsize  \\\n",
       "0  wld_trs_ports_wfp.14314            Watsi-Genge   None   River  Very Small   \n",
       "1  wld_trs_ports_wfp.14315  Charlotte (Skidegate)  CASKI     Sea     Unknown   \n",
       "\n",
       "    status  maxdepth  maxlength  annualcapacitymt   humuse  ...  \\\n",
       "0  Unknown       NaN        NaN               NaN  Unknown  ...   \n",
       "1     Open       NaN        NaN               NaN  Unknown  ...   \n",
       "\n",
       "                            country  lastcheckdate  remarks url_lca source  \\\n",
       "0  Democratic Republic of the Congo            NaT     None    None   None   \n",
       "1                            Canada            NaT     None    None   None   \n",
       "\n",
       "                        createdate                       updatedate geonameid  \\\n",
       "0 2021-02-24 11:52:47.493000+00:00 2021-02-24 11:52:47.493000+00:00    204280   \n",
       "1 2021-02-24 11:52:47.493000+00:00 2021-02-24 11:52:47.493000+00:00   6148858   \n",
       "\n",
       "  gdb_geomattr_data                     geometry  \n",
       "0              None    POINT (20.62966 -0.94560)  \n",
       "1              None  POINT (-132.00969 53.24742)  \n",
       "\n",
       "[2 rows x 25 columns]"
      ]
     },
     "execution_count": 4,
     "metadata": {},
     "output_type": "execute_result"
    }
   ],
   "source": [
    "harbors = gpd.read_file(\"global_harbors.json\")\n",
    "harbors.head(2)"
   ]
  },
  {
   "cell_type": "code",
   "execution_count": 5,
   "id": "182e4348",
   "metadata": {},
   "outputs": [
    {
     "data": {
      "text/html": [
       "<div>\n",
       "<style scoped>\n",
       "    .dataframe tbody tr th:only-of-type {\n",
       "        vertical-align: middle;\n",
       "    }\n",
       "\n",
       "    .dataframe tbody tr th {\n",
       "        vertical-align: top;\n",
       "    }\n",
       "\n",
       "    .dataframe thead th {\n",
       "        text-align: right;\n",
       "    }\n",
       "</style>\n",
       "<table border=\"1\" class=\"dataframe\">\n",
       "  <thead>\n",
       "    <tr style=\"text-align: right;\">\n",
       "      <th></th>\n",
       "      <th>featurecla</th>\n",
       "      <th>scalerank</th>\n",
       "      <th>LABELRANK</th>\n",
       "      <th>SOVEREIGNT</th>\n",
       "      <th>SOV_A3</th>\n",
       "      <th>ADM0_DIF</th>\n",
       "      <th>LEVEL</th>\n",
       "      <th>TYPE</th>\n",
       "      <th>TLC</th>\n",
       "      <th>ADMIN</th>\n",
       "      <th>...</th>\n",
       "      <th>FCLASS_TR</th>\n",
       "      <th>FCLASS_ID</th>\n",
       "      <th>FCLASS_PL</th>\n",
       "      <th>FCLASS_GR</th>\n",
       "      <th>FCLASS_IT</th>\n",
       "      <th>FCLASS_NL</th>\n",
       "      <th>FCLASS_SE</th>\n",
       "      <th>FCLASS_BD</th>\n",
       "      <th>FCLASS_UA</th>\n",
       "      <th>geometry</th>\n",
       "    </tr>\n",
       "  </thead>\n",
       "  <tbody>\n",
       "    <tr>\n",
       "      <th>0</th>\n",
       "      <td>Admin-0 country</td>\n",
       "      <td>1</td>\n",
       "      <td>3</td>\n",
       "      <td>Zimbabwe</td>\n",
       "      <td>ZWE</td>\n",
       "      <td>0</td>\n",
       "      <td>2</td>\n",
       "      <td>Sovereign country</td>\n",
       "      <td>1</td>\n",
       "      <td>Zimbabwe</td>\n",
       "      <td>...</td>\n",
       "      <td>None</td>\n",
       "      <td>None</td>\n",
       "      <td>None</td>\n",
       "      <td>None</td>\n",
       "      <td>None</td>\n",
       "      <td>None</td>\n",
       "      <td>None</td>\n",
       "      <td>None</td>\n",
       "      <td>None</td>\n",
       "      <td>POLYGON ((31.28789 -22.40205, 31.19727 -22.344...</td>\n",
       "    </tr>\n",
       "    <tr>\n",
       "      <th>1</th>\n",
       "      <td>Admin-0 country</td>\n",
       "      <td>1</td>\n",
       "      <td>3</td>\n",
       "      <td>Zambia</td>\n",
       "      <td>ZMB</td>\n",
       "      <td>0</td>\n",
       "      <td>2</td>\n",
       "      <td>Sovereign country</td>\n",
       "      <td>1</td>\n",
       "      <td>Zambia</td>\n",
       "      <td>...</td>\n",
       "      <td>None</td>\n",
       "      <td>None</td>\n",
       "      <td>None</td>\n",
       "      <td>None</td>\n",
       "      <td>None</td>\n",
       "      <td>None</td>\n",
       "      <td>None</td>\n",
       "      <td>None</td>\n",
       "      <td>None</td>\n",
       "      <td>POLYGON ((30.39609 -15.64307, 30.25068 -15.643...</td>\n",
       "    </tr>\n",
       "  </tbody>\n",
       "</table>\n",
       "<p>2 rows × 169 columns</p>\n",
       "</div>"
      ],
      "text/plain": [
       "        featurecla  scalerank  LABELRANK SOVEREIGNT SOV_A3  ADM0_DIF  LEVEL  \\\n",
       "0  Admin-0 country          1          3   Zimbabwe    ZWE         0      2   \n",
       "1  Admin-0 country          1          3     Zambia    ZMB         0      2   \n",
       "\n",
       "                TYPE TLC     ADMIN  ... FCLASS_TR  FCLASS_ID FCLASS_PL  \\\n",
       "0  Sovereign country   1  Zimbabwe  ...      None       None      None   \n",
       "1  Sovereign country   1    Zambia  ...      None       None      None   \n",
       "\n",
       "  FCLASS_GR  FCLASS_IT FCLASS_NL FCLASS_SE  FCLASS_BD FCLASS_UA  \\\n",
       "0      None       None      None      None       None      None   \n",
       "1      None       None      None      None       None      None   \n",
       "\n",
       "                                            geometry  \n",
       "0  POLYGON ((31.28789 -22.40205, 31.19727 -22.344...  \n",
       "1  POLYGON ((30.39609 -15.64307, 30.25068 -15.643...  \n",
       "\n",
       "[2 rows x 169 columns]"
      ]
     },
     "execution_count": 5,
     "metadata": {},
     "output_type": "execute_result"
    }
   ],
   "source": [
    "countries = gpd.read_file(\"Countries\" + os.sep + \"ne_50m_admin_0_countries.shp\")\n",
    "countries.head(2)"
   ]
  },
  {
   "cell_type": "code",
   "execution_count": 6,
   "id": "c48eeb03",
   "metadata": {},
   "outputs": [
    {
     "data": {
      "text/html": [
       "<div>\n",
       "<style scoped>\n",
       "    .dataframe tbody tr th:only-of-type {\n",
       "        vertical-align: middle;\n",
       "    }\n",
       "\n",
       "    .dataframe tbody tr th {\n",
       "        vertical-align: top;\n",
       "    }\n",
       "\n",
       "    .dataframe thead th {\n",
       "        text-align: right;\n",
       "    }\n",
       "</style>\n",
       "<table border=\"1\" class=\"dataframe\">\n",
       "  <thead>\n",
       "    <tr style=\"text-align: right;\">\n",
       "      <th></th>\n",
       "      <th>GEONAME</th>\n",
       "      <th>TERRITORY1</th>\n",
       "      <th>ISO_TER1</th>\n",
       "      <th>SOVEREIGN1</th>\n",
       "      <th>geometry</th>\n",
       "    </tr>\n",
       "  </thead>\n",
       "  <tbody>\n",
       "    <tr>\n",
       "      <th>0</th>\n",
       "      <td>American Samoa Exclusive Economic Zone</td>\n",
       "      <td>American Samoa</td>\n",
       "      <td>ASM</td>\n",
       "      <td>United States</td>\n",
       "      <td>POLYGON ((-166.64112 -17.55527, -166.64194 -17...</td>\n",
       "    </tr>\n",
       "    <tr>\n",
       "      <th>1</th>\n",
       "      <td>Ascension Exclusive Economic Zone</td>\n",
       "      <td>Ascension</td>\n",
       "      <td>SHN</td>\n",
       "      <td>United Kingdom</td>\n",
       "      <td>POLYGON ((-10.93328 -7.88745, -10.93324 -7.889...</td>\n",
       "    </tr>\n",
       "  </tbody>\n",
       "</table>\n",
       "</div>"
      ],
      "text/plain": [
       "                                  GEONAME      TERRITORY1 ISO_TER1  \\\n",
       "0  American Samoa Exclusive Economic Zone  American Samoa      ASM   \n",
       "1       Ascension Exclusive Economic Zone       Ascension      SHN   \n",
       "\n",
       "       SOVEREIGN1                                           geometry  \n",
       "0   United States  POLYGON ((-166.64112 -17.55527, -166.64194 -17...  \n",
       "1  United Kingdom  POLYGON ((-10.93328 -7.88745, -10.93324 -7.889...  "
      ]
     },
     "execution_count": 6,
     "metadata": {},
     "output_type": "execute_result"
    }
   ],
   "source": [
    "# EEZ files are too large for Github. They have to be downloaded here: \n",
    "# https://www.marineregions.org/downloads.php\n",
    "eez = gpd.read_file(\"EEZ\" + os.sep + \"eez_v11.shp\")\n",
    "eez.head(2)"
   ]
  },
  {
   "cell_type": "code",
   "execution_count": 7,
   "id": "12fc39c5",
   "metadata": {},
   "outputs": [],
   "source": [
    "buffer_country = 2.5\n",
    "buffer_harbor = 50"
   ]
  },
  {
   "cell_type": "code",
   "execution_count": 8,
   "id": "be8d2227",
   "metadata": {},
   "outputs": [
    {
     "name": "stdout",
     "output_type": "stream",
     "text": [
      "Create the buffers\n"
     ]
    },
    {
     "name": "stderr",
     "output_type": "stream",
     "text": [
      "/tmp/ipykernel_15612/697092470.py:26: UserWarning: Geometry is in a geographic CRS. Results from 'buffer' are likely incorrect. Use 'GeoSeries.to_crs()' to re-project geometries to a projected CRS before this operation.\n",
      "\n",
      "  buffered_harbors = gpd.GeoDataFrame(harbors_dissolved.buffer(buffer_harbor_deg))\n",
      "/tmp/ipykernel_15612/697092470.py:29: UserWarning: Geometry is in a geographic CRS. Results from 'buffer' are likely incorrect. Use 'GeoSeries.to_crs()' to re-project geometries to a projected CRS before this operation.\n",
      "\n",
      "  countries_dissolved.buffer(buffer_country_deg)\n"
     ]
    },
    {
     "name": "stdout",
     "output_type": "stream",
     "text": [
      "Substract the countries from the buffer\n",
      "Saving\n"
     ]
    }
   ],
   "source": [
    "create_land_buffer(countries, harbors, buffer_country, buffer_harbor)"
   ]
  },
  {
   "cell_type": "code",
   "execution_count": 9,
   "id": "721aae25",
   "metadata": {},
   "outputs": [
    {
     "data": {
      "text/html": [
       "<div>\n",
       "<style scoped>\n",
       "    .dataframe tbody tr th:only-of-type {\n",
       "        vertical-align: middle;\n",
       "    }\n",
       "\n",
       "    .dataframe tbody tr th {\n",
       "        vertical-align: top;\n",
       "    }\n",
       "\n",
       "    .dataframe thead th {\n",
       "        text-align: right;\n",
       "    }\n",
       "</style>\n",
       "<table border=\"1\" class=\"dataframe\">\n",
       "  <thead>\n",
       "    <tr style=\"text-align: right;\">\n",
       "      <th></th>\n",
       "      <th>geometry</th>\n",
       "    </tr>\n",
       "  </thead>\n",
       "  <tbody>\n",
       "    <tr>\n",
       "      <th>0</th>\n",
       "      <td>MULTIPOLYGON (((-163.81698 -82.85067, -163.817...</td>\n",
       "    </tr>\n",
       "  </tbody>\n",
       "</table>\n",
       "</div>"
      ],
      "text/plain": [
       "                                            geometry\n",
       "0  MULTIPOLYGON (((-163.81698 -82.85067, -163.817..."
      ]
     },
     "execution_count": 9,
     "metadata": {},
     "output_type": "execute_result"
    }
   ],
   "source": [
    "buffer = gpd.read_file(\"results\" + os.sep + \"harbor_50km_coast_2.5km_buffer_no_metadata.gpkg\")\n",
    "buffer"
   ]
  },
  {
   "cell_type": "code",
   "execution_count": 10,
   "id": "45a2e746",
   "metadata": {},
   "outputs": [
    {
     "name": "stdout",
     "output_type": "stream",
     "text": [
      "overlap\n"
     ]
    },
    {
     "name": "stderr",
     "output_type": "stream",
     "text": [
      "/tmp/ipykernel_15612/2570273260.py:6: UserWarning: `keep_geom_type=True` in overlay resulted in 3188 dropped geometries of different geometry types than df1 has. Set `keep_geom_type=False` to retain all geometries\n",
      "  overlap_df = gpd.overlay(meta, buffer, how=\"intersection\")\n"
     ]
    },
    {
     "name": "stdout",
     "output_type": "stream",
     "text": [
      "Saving\n"
     ]
    }
   ],
   "source": [
    "buffer_with_meta_data(buffer, eez, buffer_country, buffer_harbor)"
   ]
  }
 ],
 "metadata": {
  "kernelspec": {
   "display_name": "seaweed-growth-model",
   "language": "python",
   "name": "seaweed-growth-model"
  },
  "language_info": {
   "codemirror_mode": {
    "name": "ipython",
    "version": 3
   },
   "file_extension": ".py",
   "mimetype": "text/x-python",
   "name": "python",
   "nbconvert_exporter": "python",
   "pygments_lexer": "ipython3",
   "version": "3.10.8"
  }
 },
 "nbformat": 4,
 "nbformat_minor": 5
}
